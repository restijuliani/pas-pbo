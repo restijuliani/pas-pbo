{
  "nbformat": 4,
  "nbformat_minor": 0,
  "metadata": {
    "colab": {
      "provenance": []
    },
    "kernelspec": {
      "name": "python3",
      "display_name": "Python 3"
    },
    "language_info": {
      "name": "python"
    }
  },
  "cells": [
    {
      "cell_type": "code",
      "execution_count": 2,
      "metadata": {
        "colab": {
          "base_uri": "https://localhost:8080/"
        },
        "id": "8IfO8EC6EgBd",
        "outputId": "61ac0db2-ecb7-477e-b9c9-3be01b5621a1"
      },
      "outputs": [
        {
          "output_type": "stream",
          "name": "stdout",
          "text": [
            "hasil dari 1 = 0.5\n",
            "hasil dari 2 = 0.3333333333333333\n",
            "hasil dari 3 = 0.6666666666666666\n",
            "hasil dari 4 = 0.8333333333333334\n",
            "hasil dari 5 = 1.0\n",
            "hasil dari 6 = 0.16666666666666666\n",
            "hasil dari 7 = 0.8333333333333334\n",
            "hasil dari 8 = 1.0\n",
            "hasil dari 9 = 0.5\n",
            "hasil dari 10 = 0.3333333333333333\n",
            "hasil dari 11 = 0.3333333333333333\n",
            "hasil dari 12 = 0.16666666666666666\n",
            "hasil dari 13 = 0.5\n",
            "hasil dari 14 = 0.16666666666666666\n"
          ]
        }
      ],
      "source": [
        "import statistics\n",
        "import pandas as pd\n",
        "import numpy as np\n",
        "from scipy import stats\n",
        "\n",
        "# soal no 1\n",
        "a = 3\n",
        "b = 2\n",
        "c = 4\n",
        "d = 5\n",
        "e = 6\n",
        "f = 1\n",
        "g = 5\n",
        "h = 6 \n",
        "i = 3\n",
        "j = 2\n",
        "k = 2\n",
        "l = 1\n",
        "m = 3\n",
        "n = 1\n",
        "o = 5\n",
        "satudadu = 6\n",
        "hasil = (a/satudadu)\n",
        "print(\"hasil dari 1 = \" + str(hasil))\n",
        "hasil = (b/satudadu)\n",
        "print(\"hasil dari 2 = \" + str(hasil))\n",
        "hasil = (c/satudadu)\n",
        "print(\"hasil dari 3 = \" + str(hasil))\n",
        "hasil = (d/satudadu)\n",
        "print(\"hasil dari 4 = \" + str(hasil))\n",
        "hasil = (e/satudadu)\n",
        "print(\"hasil dari 5 = \" + str(hasil))\n",
        "hasil = (f/satudadu)\n",
        "print(\"hasil dari 6 = \" + str(hasil))\n",
        "hasil = (g/satudadu)\n",
        "print(\"hasil dari 7 = \" + str(hasil))\n",
        "hasil = (h/satudadu)\n",
        "print(\"hasil dari 8 = \" + str(hasil))\n",
        "hasil = (i/satudadu)\n",
        "print(\"hasil dari 9 = \" + str(hasil))\n",
        "hasil = (j/satudadu)\n",
        "print(\"hasil dari 10 = \" + str(hasil))\n",
        "hasil = (k/satudadu)\n",
        "print(\"hasil dari 11 = \" + str(hasil))\n",
        "hasil = (l/satudadu)\n",
        "print(\"hasil dari 12 = \" + str(hasil))\n",
        "hasil = (m/satudadu)\n",
        "print(\"hasil dari 13 = \" + str(hasil))\n",
        "hasil = (n/satudadu)\n",
        "print(\"hasil dari 14 = \" + str(hasil))"
      ]
    },
    {
      "cell_type": "code",
      "source": [
        "# kedua\n",
        "hasil = (a+b+c+d+e+f+g+h+i+j+k+l+m+n+o)\n",
        "print(\"hasil dari total probilitas = \" + str(hasil))\n",
        " \n"
      ],
      "metadata": {
        "colab": {
          "base_uri": "https://localhost:8080/"
        },
        "id": "4DZs2cVBEkK0",
        "outputId": "465afdb5-9646-4fc6-b39b-736333baf65a"
      },
      "execution_count": 3,
      "outputs": [
        {
          "output_type": "stream",
          "name": "stdout",
          "text": [
            "hasil dari total probilitas = 49\n"
          ]
        }
      ]
    },
    {
      "cell_type": "code",
      "source": [
        "# ketiga\n",
        "hasil = (a/satudadu)\n",
        "print(\"hasil dari nilai <5 = \" + str(hasil))\n",
        "hasil = (b/satudadu)\n",
        "print(\"hasil dari nilai <5 = \" + str(hasil))\n",
        "hasil = (c/satudadu)\n",
        "print(\"hasil dari nilai <5 = \" + str(hasil))\n",
        "hasil = (f/satudadu)\n",
        "print(\"hasil dari nilai <5 = \" + str(hasil))\n",
        "hasil = (i/satudadu)\n",
        "print(\"hasil dari nilai <5 = \" + str(hasil))\n",
        "hasil = (j/satudadu)\n",
        "print(\"hasil dari nilai <5 = \" + str(hasil))\n",
        "hasil = (k/satudadu)\n",
        "print(\"hasil dari nilai <5 = \" + str(hasil))\n",
        "hasil = (l/satudadu)\n",
        "print(\"hasil dari nilai <5 = \" + str(hasil))\n",
        "hasil = (m/satudadu)\n",
        "print(\"hasil dari nilai <5 = \" + str(hasil))\n",
        "hasil = (n/satudadu)\n",
        "print(\"hasil dari nilai <5 = \" + str(hasil))\n",
        " \n",
        "\n",
        "# dua kali dadu\n",
        "a = 9\n",
        "b = 11\n",
        "c = 3\n",
        "d = 6\n",
        "e = 2\n",
        "f = 4 \n",
        "g = 9\n",
        "h = 12\n",
        "i = 10\n",
        "j = 8\n",
        "k = 2\n",
        "l = 6\n",
        "m = 3\n",
        "n = 4\n",
        "o = 9\n",
        "p = 8\n",
        "q = 5\n",
        "r = 6\n",
        "s = 11\n",
        "t = 10\n",
        "duadadu=12\n",
        "hasil = (a/duadadu)\n",
        "print(\"hasil dari 1 = \" + str(hasil))\n",
        "hasil = (b/duadadu)\n",
        "print(\"hasil dari 2 = \" + str(hasil))\n",
        "hasil = (c/duadadu)\n",
        "print(\"hasil dari 3 = \" + str(hasil))\n",
        "hasil = (d/duadadu)\n",
        "print(\"hasil dari 4 = \" + str(hasil))\n",
        "hasil = (e/duadadu)\n",
        "print(\"hasil dari 5 = \" + str(hasil))\n",
        "hasil = (f/duadadu)\n",
        "print(\"hasil dari 6 = \" + str(hasil))\n",
        "hasil = (g/duadadu)\n",
        "print(\"hasil dari 7 = \" + str(hasil))\n",
        "hasil = (h/duadadu)\n",
        "print(\"hasil dari 8 = \" + str(hasil))\n",
        "hasil = (i/duadadu)\n",
        "print(\"hasil dari 9 = \" + str(hasil))\n",
        "hasil = (j/duadadu)\n",
        "print(\"hasil dari 10 = \" + str(hasil))\n",
        "hasil = (k/duadadu)\n",
        "print(\"hasil dari 11 = \" + str(hasil))\n",
        "hasil = (l/duadadu)\n",
        "print(\"hasil dari 12 = \" + str(hasil))\n",
        "hasil = (m/duadadu)\n",
        "print(\"hasil dari 13 = \" + str(hasil))\n",
        "hasil = (n/duadadu)\n",
        "print(\"hasil dari 14 = \" + str(hasil))\n",
        "hasil = (0/duadadu)\n",
        "print(\"hasil dari 15 = \" + str(hasil))\n",
        "hasil = (p/duadadu)\n",
        "print(\"hasil dari 16 = \" + str(hasil))\n",
        "hasil = (q/duadadu)\n",
        "print(\"hasil dari 17 = \" + str(hasil))\n",
        "hasil = (r/duadadu)\n",
        "print(\"hasil dari 18 = \" + str(hasil))\n",
        "hasil = (s/duadadu)\n",
        "print(\"hasil dari 19 = \" + str(hasil))\n",
        "hasil = (t/duadadu)\n",
        "print(\"hasil dari 20 = \" + str(hasil))\n"
      ],
      "metadata": {
        "colab": {
          "base_uri": "https://localhost:8080/"
        },
        "id": "_9vItHjdEocS",
        "outputId": "884aa6b4-d790-48dd-ecfb-806da871c526"
      },
      "execution_count": 4,
      "outputs": [
        {
          "output_type": "stream",
          "name": "stdout",
          "text": [
            "hasil dari nilai <5 = 0.5\n",
            "hasil dari nilai <5 = 0.3333333333333333\n",
            "hasil dari nilai <5 = 0.6666666666666666\n",
            "hasil dari nilai <5 = 0.16666666666666666\n",
            "hasil dari nilai <5 = 0.5\n",
            "hasil dari nilai <5 = 0.3333333333333333\n",
            "hasil dari nilai <5 = 0.3333333333333333\n",
            "hasil dari nilai <5 = 0.16666666666666666\n",
            "hasil dari nilai <5 = 0.5\n",
            "hasil dari nilai <5 = 0.16666666666666666\n",
            "hasil dari 1 = 0.75\n",
            "hasil dari 2 = 0.9166666666666666\n",
            "hasil dari 3 = 0.25\n",
            "hasil dari 4 = 0.5\n",
            "hasil dari 5 = 0.16666666666666666\n",
            "hasil dari 6 = 0.3333333333333333\n",
            "hasil dari 7 = 0.75\n",
            "hasil dari 8 = 1.0\n",
            "hasil dari 9 = 0.8333333333333334\n",
            "hasil dari 10 = 0.6666666666666666\n",
            "hasil dari 11 = 0.16666666666666666\n",
            "hasil dari 12 = 0.5\n",
            "hasil dari 13 = 0.25\n",
            "hasil dari 14 = 0.3333333333333333\n",
            "hasil dari 15 = 0.0\n",
            "hasil dari 16 = 0.6666666666666666\n",
            "hasil dari 17 = 0.4166666666666667\n",
            "hasil dari 18 = 0.5\n",
            "hasil dari 19 = 0.9166666666666666\n",
            "hasil dari 20 = 0.8333333333333334\n"
          ]
        }
      ]
    },
    {
      "cell_type": "code",
      "source": [
        "# kedua\n",
        "hasil = (a+b+c+d+e+f+g+h+i+j+k+l+m+n+o+p+q+r+s+t)\n",
        "print(\"hasil dari total probilitas = \" + str(hasil))"
      ],
      "metadata": {
        "colab": {
          "base_uri": "https://localhost:8080/"
        },
        "id": "nZnr7S3oEvGs",
        "outputId": "1ba0825d-7b51-4617-9fc2-15d4cfe8a16a"
      },
      "execution_count": 5,
      "outputs": [
        {
          "output_type": "stream",
          "name": "stdout",
          "text": [
            "hasil dari total probilitas = 138\n"
          ]
        }
      ]
    },
    {
      "cell_type": "code",
      "source": [
        "#ketiga\n",
        " \n",
        "hasil = (d/duadadu)\n",
        "print(\"hasil dari 1 = \" + str(hasil))\n",
        "hasil = (e/duadadu)\n",
        "print(\"hasil dari 2 = \" + str(hasil))\n",
        "hasil = (f/duadadu)\n",
        "print(\"hasil dari 3 = \" + str(hasil))\n",
        "hasil = (h/duadadu)\n",
        "print(\"hasil dari 4 = \" + str(hasil))\n",
        "hasil = (i/duadadu)\n",
        "print(\"hasil dari 5 = \" + str(hasil))\n",
        "hasil = (j/duadadu)\n",
        "print(\"hasil dari 6 = \" + str(hasil))\n",
        "hasil = (k/duadadu)\n",
        "print(\"hasil dari 7 = \" + str(hasil))\n",
        "hasil = (l/duadadu)\n",
        "print(\"hasil dari 8 = \" + str(hasil))\n",
        "hasil = (n/duadadu)\n",
        "print(\"hasil dari 9 = \" + str(hasil))\n",
        "hasil = (p/duadadu)\n",
        "print(\"hasil dari 10 = \" + str(hasil))\n",
        "hasil = (r/duadadu)\n",
        "print(\"hasil dari 11 = \" + str(hasil))\n",
        "hasil = (t/duadadu)\n",
        "print(\"hasil dari 12 = \" + str(hasil))\n",
        " \n"
      ],
      "metadata": {
        "colab": {
          "base_uri": "https://localhost:8080/"
        },
        "id": "DzATyxA_Ey4s",
        "outputId": "38e5d8e9-226f-4e1f-c881-7686589022f1"
      },
      "execution_count": 6,
      "outputs": [
        {
          "output_type": "stream",
          "name": "stdout",
          "text": [
            "hasil dari 1 = 0.5\n",
            "hasil dari 2 = 0.16666666666666666\n",
            "hasil dari 3 = 0.3333333333333333\n",
            "hasil dari 4 = 1.0\n",
            "hasil dari 5 = 0.8333333333333334\n",
            "hasil dari 6 = 0.6666666666666666\n",
            "hasil dari 7 = 0.16666666666666666\n",
            "hasil dari 8 = 0.5\n",
            "hasil dari 9 = 0.3333333333333333\n",
            "hasil dari 10 = 0.6666666666666666\n",
            "hasil dari 11 = 0.5\n",
            "hasil dari 12 = 0.8333333333333334\n"
          ]
        }
      ]
    },
    {
      "cell_type": "code",
      "source": [
        "# soal no 2 toserba\n",
        "print(\"minggu 1\")\n",
        "a = 6560860\n",
        "b = 5950850\n",
        "c = 12685900\n",
        "d = 5768500\n",
        "e = 2989000\n",
        "hasil = (a+b+c+d+e)\n",
        "print(\"hasil dari minggu 1 = \" + str(hasil))\n",
        "print(\"minggu 2\")\n",
        "f = 8782150\n",
        "g = 6620000\n",
        "h = 5128750\n",
        "i = 5217300\n",
        "j = 4820600\n",
        "hasil = (f+g+h+i+j)\n",
        "print(\"hasil dari minggu 2 = \" + str(hasil))\n",
        "print(\"minggu 3\")\n",
        "o = 8130940\n",
        "n = 2940650\n",
        "m = 3488200\n",
        "l = 6930540\n",
        "k = 4319260\n",
        "hasil = (o+n+m+l+k)\n",
        "print(\"hasil dari minggu 3 = \" + str(hasil))\n",
        "print(\"minggu 4\")\n",
        "p = 12849100\n",
        "q = 5752200\n",
        "r = 5128400\n",
        "s = 3880490\n",
        "t = 4982100\n",
        "hasil = (p+q+r+s+t)\n",
        "print(\"hasil dari minggu 4 = \" + str(hasil))\n",
        "\n",
        "\n"
      ],
      "metadata": {
        "colab": {
          "base_uri": "https://localhost:8080/"
        },
        "id": "UU6kDnqVjFc1",
        "outputId": "cfd0a60a-9dda-4fbd-ef8f-3e972b6e0ff9"
      },
      "execution_count": 18,
      "outputs": [
        {
          "output_type": "stream",
          "name": "stdout",
          "text": [
            "minggu 1\n",
            "hasil dari minggu 1 = 33955110\n",
            "minggu 2\n",
            "hasil dari minggu 2 = 30568800\n",
            "minggu 3\n",
            "hasil dari minggu 3 = 25809590\n",
            "minggu 4\n",
            "hasil dari minggu 4 = 32592290\n"
          ]
        }
      ]
    },
    {
      "cell_type": "code",
      "source": [
        "#cara menampilkan grafik BAR \n",
        "import matplotlib.pyplot as plt\n",
        "fig = plt.figure()\n",
        "ax = fig.add_axes([0,0,1,1])\n",
        "jurusan = ['minggu1', 'minggu2', 'minggu3','minggu4']\n",
        "siswa = [30179715,28737200 ,24362490,32592290]\n",
        "c= ['red', 'green', 'blue']\n",
        "plt.title(\" toserba\")\n",
        "plt.bar(jurusan, siswa, color= c)\n",
        "plt.show()\n",
        "\n",
        "\n",
        "\n",
        "\n"
      ],
      "metadata": {
        "colab": {
          "base_uri": "https://localhost:8080/",
          "height": 352
        },
        "id": "tGVCoEVmqySz",
        "outputId": "5626a17e-35af-41f9-98ed-6d14d3ffcb22"
      },
      "execution_count": 19,
      "outputs": [
        {
          "output_type": "display_data",
          "data": {
            "text/plain": [
              "<Figure size 432x288 with 1 Axes>"
            ],
            "image/png": "[encoded data removed]"
          },
          "metadata": {
            "needs_background": "light"
          }
        }
      ]
    },
    {
      "cell_type": "code",
      "source": [
        "# pe chart\n",
        "fig = plt.figure()\n",
        "ax = fig.add_axes([0,0,1,1])\n",
        "ax.axis('equal')\n",
        "jurusan = ['minggu1', 'minggu2', 'minggu3','minggu4']\n",
        "siswa = [30179715,28737200 ,24362490,32592290]\n",
        "ax.pie(siswa,labels=jurusan,autopct='%1.2ff%%')\n",
        "plt.title(\"toserba\")\n",
        "plt.show()"
      ],
      "metadata": {
        "colab": {
          "base_uri": "https://localhost:8080/",
          "height": 335
        },
        "id": "NxP5RKAmr6ue",
        "outputId": "606c44df-ca18-4421-cd81-cb17c7ae9cc0"
      },
      "execution_count": 20,
      "outputs": [
        {
          "output_type": "display_data",
          "data": {
            "text/plain": [
              "<Figure size 432x288 with 1 Axes>"
            ],
            "image/png": "[encoded data removed]"
          },
          "metadata": {}
        }
      ]
    },
    {
      "cell_type": "code",
      "source": [
        "#cara menampilkan scatter plot\n",
        "fig = plt.figure()\n",
        "ax =  fig.add_axes([0,0,1,1])\n",
        "minggu = ['minggu1','minggu2','minggu3','minggu4']\n",
        "jumlah=[33955110, 30568800, 30568800, 32592290]\n",
        "plt.title(\"toserba\")\n",
        "ax.scatter(minggu, jumlah,)\n",
        "plt.show()\n"
      ],
      "metadata": {
        "colab": {
          "base_uri": "https://localhost:8080/",
          "height": 352
        },
        "id": "LVfXsEjcsR1H",
        "outputId": "cef4cc02-1022-477e-aaeb-e94e5aac138f"
      },
      "execution_count": 21,
      "outputs": [
        {
          "output_type": "display_data",
          "data": {
            "text/plain": [
              "<Figure size 432x288 with 1 Axes>"
            ],
            "image/png": "[encoded data removed]"
          },
          "metadata": {
            "needs_background": "light"
          }
        }
      ]
    }
  ]
}